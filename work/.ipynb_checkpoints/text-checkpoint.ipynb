{
 "cells": [
  {
   "cell_type": "code",
   "execution_count": null,
   "metadata": {
    "collapsed": false
   },
   "outputs": [],
   "source": [
    "from sklearn.feature_extraction.text import TfidfVectorizer\n",
    "from sklearn.manifold import TSNE\n",
    "# based largely on on http://alexanderfabisch.github.io/t-sne-in-scikit-learn.html\n",
    "\n",
    "import glob\n",
    "\n",
    "\n",
    "# Guh fine, I think this is annoying\n",
    "%pylab inline\n",
    "\n"
   ]
  },
  {
   "cell_type": "code",
   "execution_count": null,
   "metadata": {
    "collapsed": false
   },
   "outputs": [],
   "source": [
    "def how_text(text):\n",
    "    if not len(text):\n",
    "        return -1\n",
    "    return sum(c.isalpha() for c in text)/len(text)\n",
    "#     numbers = sum(c.isdigit() for c in text)\n",
    "#     words   = sum(c.isalpha() for c in text)\n",
    "#     spaces  = sum(c.isspace() for c in text)\n",
    "#     others  = len(text) - numbers - words - spaces\n",
    "#     return \n",
    "\n",
    "# how_text(\"ab<3>\")"
   ]
  },
  {
   "cell_type": "code",
   "execution_count": null,
   "metadata": {
    "collapsed": false
   },
   "outputs": [],
   "source": [
    "split_emails = []\n",
    "# split_emails.extend([3,1,1])\n",
    "for filename in glob.glob('ScottPruittEmails//*.txt'):\n",
    "    # print(filename)\n",
    "    emails_file = open(filename)\n",
    "    emails_text = emails_file.read()\n",
    "    # split_emails = emails.split('\\n\\n')\n",
    "    emails_for_file = emails_text.split('From:')\n",
    "    # print( len(split_emails))\n",
    "    # this just puts the from back\n",
    "    emails_for_file = list(map(lambda x: 'From:'+x, emails_for_file))\n",
    "    split_emails.extend(emails_for_file)\n",
    "len(split_emails)\n"
   ]
  },
  {
   "cell_type": "code",
   "execution_count": null,
   "metadata": {
    "collapsed": true
   },
   "outputs": [],
   "source": [
    "# todo, this sucks or isn't working\n",
    "def line_filter(lines):\n",
    "#     lines = [k for k in lines if not k[0].isdigit()]\n",
    "#     lines = [k for k in lines if not k[1].isdigit()]        \n",
    "    lines = [k for k in lines if k.count(\"@\") < 2]\n",
    "    lines = [k for k in lines if k.count(\";\") < 2]\n",
    "    lines = [k for k in lines if k.count(\":\") < 2]\n",
    "    lines = [k for k in lines if not k.count(\"<\") and not k.count('>')]        \n",
    "    lines = [k for k in lines if not k.startswith('Sent')]\n",
    "    lines = [k for k in lines if not k.startswith('From')]\n",
    "    lines = [k for k in lines if not k.startswith('To')]\n",
    "    return lines\n",
    "\n",
    "def strip_stuff(email):\n",
    "    lines = line_filter( email.split('\\n') )\n",
    "    email = '\\n'.join(lines)\n",
    "    spaces  = sum(c.isspace() for c in email)\n",
    "    if len(email):\n",
    "#         print(spaces/len(email))\n",
    "        if (spaces/len(email)>0.8)\n",
    "    return email"
   ]
  },
  {
   "cell_type": "code",
   "execution_count": null,
   "metadata": {
    "collapsed": true
   },
   "outputs": [],
   "source": [
    "# single_line_filter(split_emails[].split('\\n'))\n",
    "\n",
    "# is this working right?\n",
    "print('before: ', len(split_emails))\n",
    "split_emails = [strip_stuff(x) for x in split_emails]\n",
    "\n",
    "# split_emails = [k for k in split_emails if len(k) > 5]\n",
    "# split_emails = [k for k in split_emails if k.count(\" \") > 5]\n",
    "\n",
    "print('after: ', len(split_emails) )"
   ]
  },
  {
   "cell_type": "code",
   "execution_count": null,
   "metadata": {
    "collapsed": false
   },
   "outputs": [],
   "source": [
    "split_emails[9]"
   ]
  },
  {
   "cell_type": "code",
   "execution_count": null,
   "metadata": {
    "collapsed": false
   },
   "outputs": [],
   "source": [
    "len(split_emails)"
   ]
  },
  {
   "cell_type": "code",
   "execution_count": null,
   "metadata": {
    "collapsed": false
   },
   "outputs": [],
   "source": [
    "tfidv = TfidfVectorizer()\n",
    "vectors = tfidv.fit_transform(split_emails)"
   ]
  },
  {
   "cell_type": "code",
   "execution_count": null,
   "metadata": {
    "collapsed": false
   },
   "outputs": [],
   "source": [
    "# print(repr(vectors))\n",
    "# tfidv.get_feature_names()\n"
   ]
  },
  {
   "cell_type": "code",
   "execution_count": null,
   "metadata": {
    "collapsed": true
   },
   "outputs": [],
   "source": [
    "from sklearn.decomposition import TruncatedSVD\n",
    "X_reduced = TruncatedSVD(n_components=50, random_state=0).fit_transform(vectors)"
   ]
  },
  {
   "cell_type": "code",
   "execution_count": null,
   "metadata": {
    "collapsed": false
   },
   "outputs": [],
   "source": [
    "\n",
    "# X_embedded = TSNE(n_components=, perplexity=40, verbose=2).fit_transform(X_reduced)\n",
    "X_embedded = TSNE(n_components=2, perplexity=40, verbose=2).fit_transform(X_reduced)"
   ]
  },
  {
   "cell_type": "code",
   "execution_count": null,
   "metadata": {
    "collapsed": false
   },
   "outputs": [],
   "source": [
    "X_embedded_as_list = X_embedded.tolist()\n",
    "X_embedded[0]\n"
   ]
  },
  {
   "cell_type": "code",
   "execution_count": null,
   "metadata": {
    "collapsed": false
   },
   "outputs": [],
   "source": [
    "# wrap_at = 60 #30\n",
    "# from textwrap import wrap\n",
    "# def add_breaks(t):\n",
    "#     return \"\\n\".join(wrap(t, wrap_at))\n",
    "\n",
    "\n",
    "# split_emails_with_breaks = [add_breaks(e) for e in split_emails]\n",
    "\n"
   ]
  },
  {
   "cell_type": "code",
   "execution_count": null,
   "metadata": {
    "collapsed": true
   },
   "outputs": [],
   "source": [
    "# from pylab import rcParams\n",
    "# rcParams['figure.figsize'] = 15, 15\n",
    "\n",
    "cmap=plt.get_cmap('viridis')"
   ]
  },
  {
   "cell_type": "code",
   "execution_count": null,
   "metadata": {
    "collapsed": false
   },
   "outputs": [],
   "source": [
    "fig = figure(figsize=(10, 10))\n",
    "# fig = figure(figsize=(100, 100))\n",
    "# fig = figure(figsize=(20, 20))\n",
    "\n",
    "ax = axes(frameon=False)\n",
    "# setp(ax, xticks=(), yticks=())\n",
    "\n",
    "subplots_adjust(left=0.0, bottom=0.0, right=1.0, top=0.9, wspace=0.0, hspace=0.0)\n",
    "scatter(X_embedded[:, 0], X_embedded[:, 1], s=400, alpha=0.6)\n",
    "# scatter(X_embedded[:, 0], X_embedded[:, 1], c=X_embedded[:, 2], s=400, alpha=0.6)\n",
    "\n",
    "\n",
    "# scatter(X_embedded[:, 0], X_embedded[:, 1], c=X_embedded[:, 2], s=5000, alpha=0.01, lw=0)\n",
    "\n",
    "# plt.axis([-10, 10, -10, 10])\n",
    "\n",
    "# for text version!\n",
    "# for i, txt in enumerate(split_emails_with_breaks):\n",
    "#     ax.annotate(txt, (X_embedded[i][0], X_embedded[i][1]), size=6, wrap=True, ha=\"center\", va=\"center\", alpha=0.9,)\n",
    "#     bbox={'facecolor': 'white', 'alpha': 0.01}).set_zorder(0)\n",
    "    \n",
    "#                 bbox={'alpha': 0.2, 'boxstyle':'round' })\n",
    "#                 bbox={'facecolor':X_embedded[i][2], 'pad':1, 'alpha': 0.2, 'boxstyle':'round' })\n",
    "\n",
    "# Audio(url=sound_file, autoplay=True)"
   ]
  },
  {
   "cell_type": "code",
   "execution_count": null,
   "metadata": {
    "collapsed": true
   },
   "outputs": [],
   "source": []
  },
  {
   "cell_type": "code",
   "execution_count": null,
   "metadata": {
    "collapsed": false
   },
   "outputs": [],
   "source": [
    "data = {\"X_embedded\":X_embedded_as_list, \"split_emails\":split_emails}\n",
    "import json\n",
    "with open('email_plot_data_2.json', 'w') as fp:\n",
    "    json.dump(data, fp)"
   ]
  },
  {
   "cell_type": "code",
   "execution_count": null,
   "metadata": {
    "collapsed": true
   },
   "outputs": [],
   "source": []
  }
 ],
 "metadata": {
  "kernelspec": {
   "display_name": "Python 3",
   "language": "python",
   "name": "python3"
  },
  "language_info": {
   "codemirror_mode": {
    "name": "ipython",
    "version": 3
   },
   "file_extension": ".py",
   "mimetype": "text/x-python",
   "name": "python",
   "nbconvert_exporter": "python",
   "pygments_lexer": "ipython3",
   "version": "3.5.2"
  }
 },
 "nbformat": 4,
 "nbformat_minor": 2
}
